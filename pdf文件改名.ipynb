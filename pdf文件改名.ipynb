{
 "cells": [
  {
   "cell_type": "code",
   "execution_count": 4,
   "id": "e8ee0a6f",
   "metadata": {},
   "outputs": [],
   "source": [
    "import os\n",
    "import shutil\n",
    "\n",
    "src_dir = 'D:/Output'\n",
    "dst_dir = 'E:/经管之家/垃圾箱/chatgpt'\n",
    "\n",
    "# 遍历源目录下的所有文件\n",
    "for filename in os.listdir(src_dir):\n",
    "    # 如果文件名包含\"_Password_Removed\"字符串，则删除该字符串\n",
    "    if '_Password_Removed' in filename:\n",
    "        new_filename = filename.replace('_Password_Removed', '')\n",
    "        # 构造源和目的完整路径\n",
    "        src_path = os.path.join(src_dir, filename)\n",
    "        dst_path = os.path.join(dst_dir, new_filename)\n",
    "        # 重命名并移动文件\n",
    "        shutil.move(src_path, dst_path)\n"
   ]
  },
  {
   "cell_type": "code",
   "execution_count": null,
   "id": "b638ab54",
   "metadata": {},
   "outputs": [],
   "source": []
  }
 ],
 "metadata": {
  "kernelspec": {
   "display_name": "Python 3 (ipykernel)",
   "language": "python",
   "name": "python3"
  },
  "language_info": {
   "codemirror_mode": {
    "name": "ipython",
    "version": 3
   },
   "file_extension": ".py",
   "mimetype": "text/x-python",
   "name": "python",
   "nbconvert_exporter": "python",
   "pygments_lexer": "ipython3",
   "version": "3.10.9"
  }
 },
 "nbformat": 4,
 "nbformat_minor": 5
}
